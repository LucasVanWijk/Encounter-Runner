{
 "cells": [
  {
   "cell_type": "code",
   "execution_count": 8,
   "metadata": {},
   "outputs": [
    {
     "data": {
      "text/plain": [
       "['Bandit_0', 'Bandit_1', 'Bandit_2', 'Bandit_3']"
      ]
     },
     "execution_count": 8,
     "metadata": {},
     "output_type": "execute_result"
    }
   ],
   "source": [
    "import pandas as pd\n",
    "import random\n",
    "\n",
    "df_enemies = pd.read_excel(\"Data\\Enemies.xlsx\")\n",
    "df_players = pd.read_excel(\"Data\\Players.xlsx\")\n",
    "df_enemies = pd.read_excel(\"Data\\Skills.xlsx\")\n",
    "enemies = {\"Bandit\": 4}\n",
    "\n",
    "enemie_names = []\n",
    "for x, y in enemies.items():\n",
    "    for i in range(y):\n",
    "        enemie_names += [f\"{x}_{i}\"]\n",
    "\n",
    "enemie_names\n"
   ]
  },
  {
   "cell_type": "code",
   "execution_count": 9,
   "metadata": {},
   "outputs": [],
   "source": [
    "player_iniative = [[\"Lazarus\",None] ,[\"Abi\", None], [\"Lika\", None], [\"Bart\", None]]"
   ]
  },
  {
   "cell_type": "code",
   "execution_count": 10,
   "metadata": {},
   "outputs": [],
   "source": [
    "def roll(value):\n",
    "    return random.randint(1, value)\n",
    "\n",
    "def roll_for_initative():\n",
    "    return None\n",
    "\n",
    "#df_initative = pd.DataFrame(player_iniative + [[enemy, roll(20)] for enemy in  enemie_names])\n"
   ]
  },
  {
   "cell_type": "code",
   "execution_count": 11,
   "metadata": {},
   "outputs": [
    {
     "data": {
      "text/plain": [
       "[['Lazarus', None],\n",
       " ['Abi', None],\n",
       " ['Lika', None],\n",
       " ['Bart', None],\n",
       " ['Bandit_0', 20],\n",
       " ['Bandit_1', 4],\n",
       " ['Bandit_2', 13],\n",
       " ['Bandit_3', 16]]"
      ]
     },
     "execution_count": 11,
     "metadata": {},
     "output_type": "execute_result"
    }
   ],
   "source": [
    "player_iniative + [[enemy, roll(20)] for enemy in  enemie_names]"
   ]
  },
  {
   "cell_type": "code",
   "execution_count": null,
   "metadata": {},
   "outputs": [],
   "source": []
  }
 ],
 "metadata": {
  "kernelspec": {
   "display_name": "base",
   "language": "python",
   "name": "python3"
  },
  "language_info": {
   "codemirror_mode": {
    "name": "ipython",
    "version": 3
   },
   "file_extension": ".py",
   "mimetype": "text/x-python",
   "name": "python",
   "nbconvert_exporter": "python",
   "pygments_lexer": "ipython3",
   "version": "3.10.9"
  },
  "orig_nbformat": 4
 },
 "nbformat": 4,
 "nbformat_minor": 2
}
